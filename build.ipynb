{
 "cells": [
  {
   "cell_type": "markdown",
   "metadata": {},
   "source": [
    "Import Library"
   ]
  },
  {
   "cell_type": "code",
   "execution_count": null,
   "metadata": {},
   "outputs": [],
   "source": [
    "import pandas as pd\n",
    "import json\n",
    "import re\n",
    "import string\n",
    "from nltk.tokenize import word_tokenize\n",
    "from Sastrawi.Stemmer.StemmerFactory import StemmerFactory\n",
    "import nltk\n",
    "nltk.download('punkt')\n",
    "\n",
    "from sklearn.model_selection import train_test_split\n",
    "from sklearn.feature_extraction.text import TfidfVectorizer\n",
    "from sklearn.linear_model import LogisticRegression\n",
    "from sklearn.metrics import classification_report, accuracy_score\n",
    "from imblearn.over_sampling import SMOTE\n",
    "\n",
    "import joblib"
   ]
  },
  {
   "cell_type": "markdown",
   "metadata": {},
   "source": [
    "Load sumberdaya dan pendefinisian fungsi preprocessing untuk dataset model pelatihan"
   ]
  },
  {
   "cell_type": "markdown",
   "metadata": {},
   "source": [
    "LINK REFERENSI\n",
    "stopwords : https://github.com/stopwords-iso/stopwords-id/blob/master/stopwords-id.txt\n",
    "kamus leksikon : https://github.com/onpilot/sentimen-bahasa/tree/master\n",
    "kamus bahasa indonesia : https://github.com/damzaky/kumpulan-kata-bahasa-indonesia-KBBI/blob/master/list_1.0.0.txt\n",
    "kamus slang : https://github.com/nasalsabila/kamus-alay/blob/master/colloquial-indonesian-lexicon.csv"
   ]
  },
  {
   "cell_type": "code",
   "execution_count": 1,
   "metadata": {},
   "outputs": [
    {
     "name": "stderr",
     "output_type": "stream",
     "text": [
      "[nltk_data] Downloading package punkt to\n",
      "[nltk_data]     C:\\Users\\Administrator\\AppData\\Roaming\\nltk_data...\n",
      "[nltk_data]   Package punkt is already up-to-date!\n"
     ]
    }
   ],
   "source": [
    "factory = StemmerFactory()\n",
    "stemmer = factory.create_stemmer()\n",
    "\n",
    "def load_file(file_path):\n",
    "    with open(file_path, 'r', encoding='utf-8') as file:\n",
    "        return set(file.read().splitlines())\n",
    "    \n",
    "def load_lexicon(file_path):\n",
    "    with open(file_path, 'r', encoding='utf-8') as file:\n",
    "        return set(json.load(file))  \n",
    "    \n",
    "slang_dict = json.load(open(\"txt/kamusSlang.json\", \"r\", encoding=\"utf-8\"))\n",
    "stopwords = load_file('txt/stopwords-1.txt')\n",
    "kamus_indonesia = load_file('txt/kamusIndonesia.txt')\n",
    "pos_lexicon = load_lexicon('leksikon/leksikon-pos.json')\n",
    "neg_lexicon = load_lexicon('leksikon/leksikon-neg.json')\n",
    "\n",
    "def preprocessing(text, slang_dict, stopwords, kamus_indonesia, stemmer):\n",
    "    text = text.lower()  # Case folding\n",
    "    text = re.sub(r\"\\\\t|\\\\n|\\\\u|\\\\|http[s]?://\\\\S+|[@#][A-Za-z0-9_]+\", \" \", text)  # Menghapus karakter khusus\n",
    "    text = re.sub(r\"\\\\d+\", \"\", text)  # Menghapus angka\n",
    "    text = text.translate(str.maketrans(\"\", \"\", string.punctuation))  # Menghapus tanda baca (pakai import string)\n",
    "    text = re.sub(r\"\\\\s+\", ' ', text).strip()  # merapihkan spasi ganda\n",
    "    text = re.sub(r\"\\b[a-zA-Z]\\b\", \"\", text) # Menghapus satu huruf (besar/kecil)\n",
    "    text = ' '.join([slang_dict.get(word, word) for word in text.split()]) # Normalisasi (pemanfaatan kamus slang)\n",
    "    text = word_tokenize(text) # Tokenisasi (sebelum stemming)\n",
    "    text = [stemmer.stem(word) for word in text] # Stemming\n",
    "    text = [word for word in text if word not in stopwords and len(word) > 3 and word in kamus_indonesia] # Stopwords & memilah kata\n",
    "    text = ' '.join(text)\n",
    "    return text\n"
   ]
  },
  {
   "cell_type": "markdown",
   "metadata": {},
   "source": [
    "Fungsi pelabelan sentimen (boleh diskip)"
   ]
  },
  {
   "cell_type": "code",
   "execution_count": 2,
   "metadata": {},
   "outputs": [],
   "source": [
    "def hitung_sentimen(text, leksikon_positif, leksikon_negatif, prior_positif=0.5, prior_negatif=0.5):\n",
    "    # Inisialisasi skor total\n",
    "    total_skor_positif = 0\n",
    "    total_skor_negatif = 0\n",
    "\n",
    "    # Iterasi seluruh kata pada teks (kalimat)\n",
    "    for kata in text.split():\n",
    "        # Hitung P(kata|positif) dan P(kata|negatif)\n",
    "        probabilitas_kata_positif = 1 / len(leksikon_positif) if kata in leksikon_positif else 0\n",
    "        probabilitas_kata_negatif = 1 / len(leksikon_negatif) if kata in leksikon_negatif else 0\n",
    "\n",
    "        # Jumlah skor kata\n",
    "        total_skor_kata = probabilitas_kata_positif + probabilitas_kata_negatif\n",
    "\n",
    "        # Perhitungan skor sentimen positif dan negatif untuk kata\n",
    "        skor_sentimen_positif = probabilitas_kata_positif / total_skor_kata if total_skor_kata > 0 else 0\n",
    "        skor_sentimen_negatif = probabilitas_kata_negatif / total_skor_kata if total_skor_kata > 0 else 0\n",
    "\n",
    "        # Akumulasi skor\n",
    "        total_skor_positif += skor_sentimen_positif\n",
    "        total_skor_negatif += skor_sentimen_negatif\n",
    "\n",
    "    # Hitung total skor semua kata\n",
    "    total_skor_semua = total_skor_positif + total_skor_negatif\n",
    "\n",
    "    # Hitung probabilitas akhir untuk positif dan negatif\n",
    "    probabilitas_positif = ((total_skor_positif / total_skor_semua) * prior_positif) if total_skor_semua > 0 else 0\n",
    "    probabilitas_negatif = ((total_skor_negatif / total_skor_semua) * prior_negatif) if total_skor_semua > 0 else 0\n",
    "\n",
    "    # Tentukan sentimen berdasarkan probabilitas tertinggi\n",
    "    if probabilitas_positif > probabilitas_negatif:\n",
    "        return 'Positif', 1\n",
    "    elif probabilitas_negatif > probabilitas_positif:\n",
    "        return 'Negatif', -1\n",
    "    else:\n",
    "        return 'Netral', 0"
   ]
  },
  {
   "cell_type": "markdown",
   "metadata": {},
   "source": [
    "Pemanggilan fungsi preprocessing"
   ]
  },
  {
   "cell_type": "code",
   "execution_count": 3,
   "metadata": {},
   "outputs": [],
   "source": [
    "df = pd.read_csv('code_filter_crawling/crawling.csv')\n",
    "df.rename(columns={\"full_text\" : \"teks\"}, inplace=True)\n",
    "df['teks'] = df['teks'].apply(lambda x: preprocessing(x, slang_dict, stopwords, kamus_indonesia,stemmer))\n",
    "\n",
    "df.to_csv('preprocessing/preprocessing.csv', index=False)\n",
    "df = df[df['teks'].str.strip().astype(bool)]"
   ]
  },
  {
   "cell_type": "markdown",
   "metadata": {},
   "source": [
    "Pemanggilan fungsi pelabelan (boleh di skip)"
   ]
  },
  {
   "cell_type": "code",
   "execution_count": null,
   "metadata": {},
   "outputs": [],
   "source": [
    "df[['label' ,'skor']] = df['teks'].apply(lambda x: pd.Series(hitung_sentimen(x, pos_lexicon, neg_lexicon)))\n",
    "df = df[df['teks'].str.strip().astype(bool)]\n",
    "df.to_csv('dataset_berlabel/dataset_berlabel.csv', index=False)"
   ]
  },
  {
   "cell_type": "markdown",
   "metadata": {},
   "source": [
    "Pelatihan model logistic regression (tanpa SMOTE)"
   ]
  },
  {
   "cell_type": "code",
   "execution_count": 4,
   "metadata": {},
   "outputs": [],
   "source": [
    "# import pandas as pd\n",
    "# from sklearn.model_selection import train_test_split\n",
    "# from sklearn.feature_extraction.text import TfidfVectorizer\n",
    "# from sklearn.linear_model import LogisticRegression\n",
    "# from sklearn.metrics import classification_report, accuracy_score\n",
    "# from imblearn.over_sampling import SMOTE\n",
    "\n",
    "# data = pd.read_csv('dataset_berlabel/dataset_berlabel.csv')\n",
    "\n",
    "# # Preprocessing teks (case folding, tokenization, dsb.) bisa dilakukan di sini\n",
    "# # data['teks'] = data['teks'].apply(lambda x: preprocessing(x, slang_dict, stopwords, kamus_indonesia, stemmer))\n",
    "\n",
    "# X = data['teks']\n",
    "# y = data['label']\n",
    "\n",
    "\n",
    "# # Membagi data menjadi training dan testing\n",
    "# X_train, X_test, y_train, y_test = train_test_split(X, y, test_size=0.3, random_state=42)\n",
    "# vectorizer = TfidfVectorizer()\n",
    "\n",
    "\n",
    "# X_train_tfidf = vectorizer.fit_transform(X_train)\n",
    "# X_test_tfidf = vectorizer.transform(X_test)\n",
    "\n",
    "\n",
    "# # Melatih model Logistic Regression\n",
    "# model = LogisticRegression()\n",
    "# model.fit(X_train_tfidf, y_train)\n",
    "\n",
    "# # Memprediksi hasil untuk data testing\n",
    "# y_pred = model.predict(X_test_tfidf)\n",
    "\n",
    "# # Evaluasi model\n",
    "# print(\"Accuracy:\", accuracy_score(y_test, y_pred))\n",
    "# print(\"Classification Report:\\n\", classification_report(y_test, y_pred))\n"
   ]
  },
  {
   "cell_type": "markdown",
   "metadata": {},
   "source": [
    "Pelatihan model logistic regression (menggunakan SMOTE) proporsi split data 70:30"
   ]
  },
  {
   "cell_type": "code",
   "execution_count": 5,
   "metadata": {},
   "outputs": [
    {
     "name": "stdout",
     "output_type": "stream",
     "text": [
      "akurasi: 0.8343023255813954\n",
      "classification report:\n",
      "               precision    recall  f1-score   support\n",
      "\n",
      "     Negatif       0.86      0.89      0.87       208\n",
      "      Netral       0.36      0.29      0.32        14\n",
      "     Positif       0.83      0.80      0.82       122\n",
      "\n",
      "    accuracy                           0.83       344\n",
      "   macro avg       0.68      0.66      0.67       344\n",
      "weighted avg       0.83      0.83      0.83       344\n",
      "\n"
     ]
    }
   ],
   "source": [
    "import pandas as pd\n",
    "df = pd.read_csv('dataset_berlabel/dataset_berlabel.csv')\n",
    "X = df['teks']\n",
    "y = df['label']\n",
    "smote = SMOTE(random_state=42)\n",
    "\n",
    "X_train, X_test, y_train, y_test = train_test_split(X, y, test_size=0.3, random_state=42)\n",
    "vectorizer = TfidfVectorizer()\n",
    "\n",
    "X_train_tfidf = vectorizer.fit_transform(X_train)\n",
    "X_test_tfidf = vectorizer.transform(X_test)\n",
    "\n",
    "X_train_smote, y_train_smote = smote.fit_resample(X_train_tfidf, y_train)\n",
    "model = LogisticRegression()\n",
    "model.fit(X_train_smote, y_train_smote)\n",
    "\n",
    "y_pred = model.predict(X_test_tfidf)\n",
    "\n",
    "joblib.dump(model, \"model/model_sentimen.pkl\")\n",
    "joblib.dump(vectorizer, \"model/vectorizer_sentimen.pkl\")\n",
    "\n",
    "print(\"akurasi:\", accuracy_score(y_test, y_pred))\n",
    "print(\"classification report:\\n\", classification_report(y_test, y_pred))\n"
   ]
  },
  {
   "cell_type": "markdown",
   "metadata": {},
   "source": [
    "Confusion Matrix pada model logistic regression"
   ]
  },
  {
   "cell_type": "code",
   "execution_count": 6,
   "metadata": {},
   "outputs": [
    {
     "data": {
      "image/png": "[encoded data removed]",
      "text/plain": [
       "<Figure size 640x480 with 2 Axes>"
      ]
     },
     "metadata": {},
     "output_type": "display_data"
    }
   ],
   "source": [
    "from sklearn.metrics import confusion_matrix, ConfusionMatrixDisplay\n",
    "import matplotlib.pyplot as plt\n",
    "# Menghitung confusion matrix\n",
    "cm = confusion_matrix(y_test, y_pred)\n",
    "\n",
    "# Menampilkan confusion matrix\n",
    "disp = ConfusionMatrixDisplay(confusion_matrix=cm, display_labels=model.classes_)\n",
    "disp.plot(cmap=\"Blues\")\n",
    "plt.xlabel(\"Label Prediksi\")  # Mengganti label sumbu x\n",
    "plt.ylabel(\"Label Aktual\")    # Mengganti label sumbu y\n",
    "plt.title(\"Confusion Matrix\") # Menambahkan judul pada plot\n",
    "\n",
    "# Menampilkan plot\n",
    "\n",
    "plt.show()\n"
   ]
  },
  {
   "cell_type": "markdown",
   "metadata": {},
   "source": [
    "Presisi, recall dan f1-score secara keseluruhan (dihitung dari average macro)"
   ]
  },
  {
   "cell_type": "code",
   "execution_count": 7,
   "metadata": {},
   "outputs": [
    {
     "name": "stdout",
     "output_type": "stream",
     "text": [
      "Presisi (keseluruhan): 0.68\n",
      "Recall (keseluruhan): 0.66\n",
      "F1-Score (keseluruhan): 0.67\n"
     ]
    }
   ],
   "source": [
    "from sklearn.metrics import precision_score, recall_score, f1_score\n",
    "\n",
    "# Menghitung presisi, recall, dan F1-score secara keseluruhan\n",
    "precision = precision_score(y_test, y_pred, average='macro')\n",
    "recall = recall_score(y_test, y_pred, average='macro')\n",
    "f1 = f1_score(y_test, y_pred, average='macro')\n",
    "\n",
    "print(f\"Presisi (keseluruhan): {precision:.2f}\")\n",
    "print(f\"Recall (keseluruhan): {recall:.2f}\")\n",
    "print(f\"F1-Score (keseluruhan): {f1:.2f}\")\n"
   ]
  },
  {
   "cell_type": "code",
   "execution_count": 8,
   "metadata": {},
   "outputs": [
    {
     "name": "stdout",
     "output_type": "stream",
     "text": [
      "<class 'pandas.core.frame.DataFrame'>\n",
      "RangeIndex: 1144 entries, 0 to 1143\n",
      "Data columns (total 3 columns):\n",
      " #   Column  Non-Null Count  Dtype \n",
      "---  ------  --------------  ----- \n",
      " 0   teks    1144 non-null   object\n",
      " 1   label   1144 non-null   object\n",
      " 2   skor    1144 non-null   int64 \n",
      "dtypes: int64(1), object(2)\n",
      "memory usage: 26.9+ KB\n"
     ]
    }
   ],
   "source": [
    "df.info()"
   ]
  }
 ],
 "metadata": {
  "kernelspec": {
   "display_name": "Python 3",
   "language": "python",
   "name": "python3"
  },
  "language_info": {
   "codemirror_mode": {
    "name": "ipython",
    "version": 3
   },
   "file_extension": ".py",
   "mimetype": "text/x-python",
   "name": "python",
   "nbconvert_exporter": "python",
   "pygments_lexer": "ipython3",
   "version": "3.13.0"
  }
 },
 "nbformat": 4,
 "nbformat_minor": 2
}
