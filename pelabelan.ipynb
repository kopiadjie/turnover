{
 "cells": [
  {
   "cell_type": "code",
   "execution_count": 1,
   "metadata": {},
   "outputs": [],
   "source": [
    "def hitung_sentimen(text, leksikon_positif, leksikon_negatif, prior_positif=0.5, prior_negatif=0.5):\n",
    "\n",
    "    total_skor_positif = 0\n",
    "    total_skor_negatif = 0\n",
    "\n",
    "    for kata in text.split():\n",
    "        probabilitas_kata_positif = 1 / len(leksikon_positif) if kata in leksikon_positif else 0\n",
    "        probabilitas_kata_negatif = 1 / len(leksikon_negatif) if kata in leksikon_negatif else 0\n",
    "\n",
    "        total_skor_kata = probabilitas_kata_positif + probabilitas_kata_negatif\n",
    "\n",
    "        skor_sentimen_positif = probabilitas_kata_positif / total_skor_kata if total_skor_kata > 0 else 0        \n",
    "        skor_sentimen_negatif = probabilitas_kata_negatif / total_skor_kata if total_skor_kata > 0 else 0        \n",
    "\n",
    "        total_skor_positif += skor_sentimen_positif\n",
    "        total_skor_negatif += skor_sentimen_negatif\n",
    "    \n",
    "    total_skor_semua = total_skor_positif + total_skor_negatif\n",
    "\n",
    "    probabilitas_positif = ((total_skor_positif/ total_skor_semua) * prior_positif) if total_skor_semua > 0 else 0\n",
    "    probabilitas_negatif = ((total_skor_negatif / total_skor_semua) * prior_positif) if total_skor_semua > 0 else 0\n",
    "\n",
    "    if probabilitas_kata_positif > probabilitas_kata_negatif:\n",
    "        return 'Positif', 1\n",
    "    elif probabilitas_kata_negatif > probabilitas_kata_positif:\n",
    "        return 'Negatif', -1\n",
    "    else:\n",
    "        return 'Netral', 0\n",
    "    "
   ]
  }
 ],
 "metadata": {
  "language_info": {
   "name": "python"
  }
 },
 "nbformat": 4,
 "nbformat_minor": 2
}
