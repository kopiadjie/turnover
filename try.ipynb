{
 "cells": [
  {
   "cell_type": "code",
   "execution_count": 2,
   "metadata": {},
   "outputs": [
    {
     "name": "stdout",
     "output_type": "stream",
     "text": [
      "Epoch 0, Loss: 0.6931471805599452\n",
      "Epoch 100, Loss: 0.6702919736009953\n",
      "Epoch 200, Loss: 0.6543089701307478\n",
      "Epoch 300, Loss: 0.641899141672171\n",
      "Epoch 400, Loss: 0.6314127385553331\n",
      "Epoch 500, Loss: 0.6220199381457046\n",
      "Epoch 600, Loss: 0.6132987122261704\n",
      "Epoch 700, Loss: 0.6050312491920803\n",
      "Epoch 800, Loss: 0.5971028452977176\n",
      "Epoch 900, Loss: 0.5894512580494982\n",
      "Koefisien (weights): [0.44467501 0.36335963]\n",
      "Bias: -0.8131537718510768\n",
      "Prediksi: [0, 0, 0]\n"
     ]
    }
   ],
   "source": [
    "import numpy as np\n",
    "\n",
    "# Fungsi sigmoid\n",
    "def sigmoid(z):\n",
    "    return 1 / (1 + np.exp(-z))\n",
    "\n",
    "# Fungsi untuk menghitung loss (log loss / binary cross-entropy)\n",
    "def compute_loss(y, y_hat):\n",
    "    m = len(y)\n",
    "    return - (1/m) * np.sum(y * np.log(y_hat) + (1 - y) * np.log(1 - y_hat))\n",
    "\n",
    "# Fungsi untuk melakukan training model regresi logistik menggunakan gradient descent\n",
    "def logistic_regression(X, y, learning_rate=0.01, epochs=1000):\n",
    "    m, n = X.shape  # m = jumlah data, n = jumlah fitur\n",
    "    # Inisialisasi bobot (coefficients) dan bias\n",
    "    w = np.zeros(n)  # bobot untuk setiap fitur\n",
    "    b = 0  # bias\n",
    "    \n",
    "    for epoch in range(epochs):\n",
    "        # Prediksi menggunakan sigmoid\n",
    "        z = np.dot(X, w) + b\n",
    "        y_hat = sigmoid(z)\n",
    "        \n",
    "        # Hitung loss untuk memantau proses pelatihan\n",
    "        loss = compute_loss(y, y_hat)\n",
    "        \n",
    "        # Hitung gradien\n",
    "        dw = (1/m) * np.dot(X.T, (y_hat - y))\n",
    "        db = (1/m) * np.sum(y_hat - y)\n",
    "        \n",
    "        # Perbarui bobot dan bias menggunakan gradient descent\n",
    "        w -= learning_rate * dw\n",
    "        b -= learning_rate * db\n",
    "        \n",
    "        # Menampilkan loss setiap 100 epoch untuk memantau konvergensi\n",
    "        if epoch % 100 == 0:\n",
    "            print(f\"Epoch {epoch}, Loss: {loss}\")\n",
    "    \n",
    "    return w, b\n",
    "\n",
    "# Fungsi untuk prediksi\n",
    "def predict(X, w, b):\n",
    "    z = np.dot(X, w) + b\n",
    "    y_hat = sigmoid(z)\n",
    "    return [1 if i > 0.5 else 0 for i in y_hat]\n",
    "\n",
    "# Contoh data sederhana (misalnya 3 data dengan 2 fitur)\n",
    "X = np.array([[0.1, 0.2],\n",
    "              [0.4, 0.5],\n",
    "              [0.6, 0.7]])\n",
    "y = np.array([0, 0, 1])  # Label (0 = Negatif, 1 = Positif)\n",
    "\n",
    "# Melatih model regresi logistik\n",
    "w, b = logistic_regression(X, y)\n",
    "\n",
    "# Melakukan prediksi\n",
    "y_pred = predict(X, w, b)\n",
    "\n",
    "print(\"Koefisien (weights):\", w)\n",
    "print(\"Bias:\", b)\n",
    "print(\"Prediksi:\", y_pred)\n"
   ]
  },
  {
   "cell_type": "code",
   "execution_count": null,
   "metadata": {},
   "outputs": [],
   "source": [
    "def sigmoid(z):\n",
    "    return 1 / (1 + np.exp(-z))"
   ]
  },
  {
   "cell_type": "code",
   "execution_count": null,
   "metadata": {},
   "outputs": [],
   "source": [
    "def cost_function(X, y, theta):\n",
    "    m = len(y)\n",
    "    h = sigmoid(np.dot(X, theta))\n",
    "    cost = (-1/m) * (np.dot(y.T, np.log(h)) + np.dot((1-y).T, np.log(1-h)))\n",
    "    return cost"
   ]
  },
  {
   "cell_type": "code",
   "execution_count": null,
   "metadata": {},
   "outputs": [],
   "source": [
    "def gradient_descent(X, y, theta, alpha, num_iterations):\n",
    "    m = len(y)\n",
    "    cost_history = []\n",
    "    for i in range(num_iterations):\n",
    "        h = sigmoid(np.dot(X, theta))\n",
    "        theta = theta - (alpha/m) * np.dot(X.T, (h-y))\n",
    "        cost = cost_function(X, y, theta)\n",
    "        cost_history.append(cost)\n",
    "    return theta, cost_history"
   ]
  },
  {
   "cell_type": "code",
   "execution_count": null,
   "metadata": {},
   "outputs": [],
   "source": [
    "# Latih model\n",
    "theta, cost_history = gradient_descent(X, y, theta, alpha, num_iterations)"
   ]
  },
  {
   "cell_type": "code",
   "execution_count": null,
   "metadata": {},
   "outputs": [],
   "source": [
    "# Hitung probabilitas prediksi\n",
    "h = sigmoid(np.dot(X_test, theta))"
   ]
  },
  {
   "cell_type": "markdown",
   "metadata": {},
   "source": [
    "gabung"
   ]
  },
  {
   "cell_type": "code",
   "execution_count": null,
   "metadata": {},
   "outputs": [],
   "source": [
    "def sigmoid(z):\n",
    "    return 1 / (1 + np.exp(-z))\n",
    "\n",
    "def cost_function(X, y, theta):\n",
    "    m = len(y)\n",
    "    h = sigmoid(np.dot(X, theta))\n",
    "    cost = (-1/m) * (np.dot(y.T, np.log(h)) + np.dot((1-y).T, np.log(1-h)))\n",
    "    return cost\n",
    "\n",
    "def gradient_descent(X, y, theta, alpha, num_iterations):\n",
    "    m = len(y)\n",
    "    cost_history = []\n",
    "    for i in range(num_iterations):\n",
    "        h = sigmoid(np.dot(X, theta))\n",
    "        theta = theta - (alpha/m) * np.dot(X.T, (h-y))\n",
    "        cost = cost_function(X, y, theta)\n",
    "        cost_history.append(cost)\n",
    "    return theta, cost_history\n",
    "\n",
    "# Latih model\n",
    "theta, cost_history = gradient_descent(X, y, theta, alpha, num_iterations)\n",
    "\n",
    "# Hitung probabilitas prediksi\n",
    "h = sigmoid(np.dot(X_test, theta))"
   ]
  }
 ],
 "metadata": {
  "kernelspec": {
   "display_name": "Python 3",
   "language": "python",
   "name": "python3"
  },
  "language_info": {
   "codemirror_mode": {
    "name": "ipython",
    "version": 3
   },
   "file_extension": ".py",
   "mimetype": "text/x-python",
   "name": "python",
   "nbconvert_exporter": "python",
   "pygments_lexer": "ipython3",
   "version": "3.13.0"
  }
 },
 "nbformat": 4,
 "nbformat_minor": 2
}
