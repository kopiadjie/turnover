{
 "cells": [
  {
   "cell_type": "markdown",
   "metadata": {},
   "source": [
    "Urut sesuai abjad"
   ]
  },
  {
   "cell_type": "code",
   "execution_count": 1,
   "metadata": {},
   "outputs": [],
   "source": [
    "# Nama file yang akan dibaca dan diurutkan\n",
    "input_file = \"stopwords_awal.txt\"\n",
    "output_file = \"stopwords_awal.txt\"\n",
    "\n",
    "# Membaca isi file\n",
    "with open(input_file, \"r\", encoding=\"utf-8\") as file:\n",
    "    lines = file.readlines()\n",
    "\n",
    "# Menghapus spasi putih di awal/akhir setiap baris dan mengurutkan\n",
    "sorted_lines = sorted(line.strip() for line in lines)\n",
    "\n",
    "# Menulis hasil yang sudah diurutkan ke file baru\n",
    "with open(output_file, \"w\", encoding=\"utf-8\") as file:\n",
    "    for line in sorted_lines:\n",
    "        file.write(line + \"\\n\")\n",
    "\n"
   ]
  },
  {
   "cell_type": "markdown",
   "metadata": {},
   "source": [
    "Hapus duplikasi"
   ]
  },
  {
   "cell_type": "code",
   "execution_count": 2,
   "metadata": {},
   "outputs": [],
   "source": [
    "# Nama file yang akan dibaca\n",
    "input_file = \"stopwords_awal.txt\"\n",
    "output_file = \"stopwords_awal.txt\"\n",
    "\n",
    "# Membaca isi file\n",
    "with open(input_file, \"r\", encoding=\"utf-8\") as file:\n",
    "    lines = file.readlines()\n",
    "\n",
    "# Menghapus duplikasi dan mempertahankan urutan\n",
    "unique_lines = list(dict.fromkeys(line.strip() for line in lines))\n",
    "\n",
    "# Menulis hasil tanpa duplikasi ke file baru\n",
    "with open(output_file, \"w\", encoding=\"utf-8\") as file:\n",
    "    for line in unique_lines:\n",
    "        file.write(line + \"\\n\")\n",
    "\n"
   ]
  }
 ],
 "metadata": {
  "kernelspec": {
   "display_name": "Python 3",
   "language": "python",
   "name": "python3"
  },
  "language_info": {
   "codemirror_mode": {
    "name": "ipython",
    "version": 3
   },
   "file_extension": ".py",
   "mimetype": "text/x-python",
   "name": "python",
   "nbconvert_exporter": "python",
   "pygments_lexer": "ipython3",
   "version": "3.13.0"
  }
 },
 "nbformat": 4,
 "nbformat_minor": 2
}
