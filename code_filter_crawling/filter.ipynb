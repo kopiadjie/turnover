{
 "cells": [
  {
   "cell_type": "markdown",
   "metadata": {},
   "source": [
    "Gabungkan seluruh file dalam satu file csv"
   ]
  },
  {
   "cell_type": "code",
   "execution_count": 3,
   "metadata": {},
   "outputs": [],
   "source": [
    "import pandas as pd\n",
    "import os\n",
    "\n",
    "loc = 'file'\n",
    "\n",
    "# Mengambil seluruh file\n",
    "all = [a for a in os.listdir(loc) if a.endswith('.csv')]\n",
    "\n",
    "# Menggabungkan semua file ke dalam satu DataFrame tanpa header\n",
    "dataframe = []\n",
    "\n",
    "for file in all:\n",
    "    df = pd.read_csv(os.path.join(loc, file), header=None)\n",
    "    dataframe.append(df)\n",
    "\n",
    "# Gabungkan semua DataFrame\n",
    "combined_df = pd.concat(dataframe, ignore_index=True)\n",
    "\n",
    "# Hapus baris yang mengandung kata 'diskon', 'promo', atau 'gratis'\n",
    "combined_df = combined_df[~combined_df[0].str.contains('diskon|promo|gratis', case=False, na=False)]\n",
    "\n",
    "# Simpan hasil hanya berdasarkan baris\n",
    "combined_df.to_csv('crawling.csv', index=False, header=False)\n"
   ]
  },
  {
   "cell_type": "markdown",
   "metadata": {},
   "source": [
    "Filter ulasan yang sesuai dengan ruang lingkup penelitian"
   ]
  },
  {
   "cell_type": "code",
   "execution_count": 4,
   "metadata": {},
   "outputs": [
    {
     "data": {
      "text/plain": [
       "(1145, 1)"
      ]
     },
     "execution_count": 4,
     "metadata": {},
     "output_type": "execute_result"
    }
   ],
   "source": [
    "import pandas as pd\n",
    "\n",
    "df = pd.read_csv('crawling.csv')\n",
    "keywords = [\"gaji\", \"intensif\",\"salary\",\"bonus\", \"toxic\", \"rekan\",\"stres\",\"stress\",\"jam\", \"potensi\",\"lembur\", \"pencapaian\", \"berkembang\", \"kembang\"]\n",
    "\n",
    "def check_keywords(text):\n",
    "    return any(keyword in text for keyword in keywords)\n",
    "\n",
    "dataset = df[df['full_text'].apply(check_keywords)]\n",
    "dataset.to_csv('crawling.csv', index=False)\n",
    "dataset.shape"
   ]
  },
  {
   "cell_type": "code",
   "execution_count": null,
   "metadata": {},
   "outputs": [],
   "source": []
  }
 ],
 "metadata": {
  "kernelspec": {
   "display_name": "Python 3",
   "language": "python",
   "name": "python3"
  },
  "language_info": {
   "codemirror_mode": {
    "name": "ipython",
    "version": 3
   },
   "file_extension": ".py",
   "mimetype": "text/x-python",
   "name": "python",
   "nbconvert_exporter": "python",
   "pygments_lexer": "ipython3",
   "version": "3.13.0"
  }
 },
 "nbformat": 4,
 "nbformat_minor": 2
}
